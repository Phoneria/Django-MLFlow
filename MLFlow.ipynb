{
 "cells": [
  {
   "cell_type": "code",
   "execution_count": 3,
   "metadata": {
    "colab": {
     "base_uri": "https://localhost:8080/"
    },
    "collapsed": true,
    "id": "JfFEQb333_Pv",
    "jupyter": {
     "outputs_hidden": true
    },
    "outputId": "f40ebb9b-f64d-48a6-8102-68898e8db82b"
   },
   "outputs": [
    {
     "name": "stdout",
     "output_type": "stream",
     "text": [
      "Requirement already satisfied: mlflow in c:\\users\\izzet\\anaconda3\\lib\\site-packages (2.10.2)\n",
      "Requirement already satisfied: click<9,>=7.0 in c:\\users\\izzet\\anaconda3\\lib\\site-packages (from mlflow) (8.0.4)\n",
      "Requirement already satisfied: cloudpickle<4 in c:\\users\\izzet\\anaconda3\\lib\\site-packages (from mlflow) (2.2.1)\n",
      "Requirement already satisfied: entrypoints<1 in c:\\users\\izzet\\anaconda3\\lib\\site-packages (from mlflow) (0.4)\n",
      "Requirement already satisfied: gitpython<4,>=2.1.0 in c:\\users\\izzet\\anaconda3\\lib\\site-packages (from mlflow) (3.1.37)\n",
      "Requirement already satisfied: pyyaml<7,>=5.1 in c:\\users\\izzet\\anaconda3\\lib\\site-packages (from mlflow) (6.0)\n",
      "Requirement already satisfied: protobuf<5,>=3.12.0 in c:\\users\\izzet\\anaconda3\\lib\\site-packages (from mlflow) (3.20.3)\n",
      "Requirement already satisfied: pytz<2024 in c:\\users\\izzet\\anaconda3\\lib\\site-packages (from mlflow) (2022.7)\n",
      "Requirement already satisfied: requests<3,>=2.17.3 in c:\\users\\izzet\\anaconda3\\lib\\site-packages (from mlflow) (2.31.0)\n",
      "Requirement already satisfied: packaging<24 in c:\\users\\izzet\\anaconda3\\lib\\site-packages (from mlflow) (23.0)\n",
      "Requirement already satisfied: importlib-metadata!=4.7.0,<8,>=3.7.0 in c:\\users\\izzet\\anaconda3\\lib\\site-packages (from mlflow) (6.0.0)\n",
      "Requirement already satisfied: sqlparse<1,>=0.4.0 in c:\\users\\izzet\\anaconda3\\lib\\site-packages (from mlflow) (0.4.4)\n",
      "Requirement already satisfied: alembic!=1.10.0,<2 in c:\\users\\izzet\\anaconda3\\lib\\site-packages (from mlflow) (1.13.1)\n",
      "Requirement already satisfied: docker<8,>=4.0.0 in c:\\users\\izzet\\anaconda3\\lib\\site-packages (from mlflow) (7.0.0)\n",
      "Requirement already satisfied: Flask<4 in c:\\users\\izzet\\anaconda3\\lib\\site-packages (from mlflow) (2.2.2)\n",
      "Requirement already satisfied: numpy<2 in c:\\users\\izzet\\anaconda3\\lib\\site-packages (from mlflow) (1.24.3)\n",
      "Requirement already satisfied: scipy<2 in c:\\users\\izzet\\anaconda3\\lib\\site-packages (from mlflow) (1.10.1)\n",
      "Requirement already satisfied: pandas<3 in c:\\users\\izzet\\anaconda3\\lib\\site-packages (from mlflow) (1.5.3)\n",
      "Requirement already satisfied: querystring-parser<2 in c:\\users\\izzet\\anaconda3\\lib\\site-packages (from mlflow) (1.2.4)\n",
      "Requirement already satisfied: sqlalchemy<3,>=1.4.0 in c:\\users\\izzet\\anaconda3\\lib\\site-packages (from mlflow) (1.4.39)\n",
      "Requirement already satisfied: scikit-learn<2 in c:\\users\\izzet\\anaconda3\\lib\\site-packages (from mlflow) (1.3.0)\n",
      "Requirement already satisfied: pyarrow<16,>=4.0.0 in c:\\users\\izzet\\anaconda3\\lib\\site-packages (from mlflow) (11.0.0)\n",
      "Requirement already satisfied: markdown<4,>=3.3 in c:\\users\\izzet\\anaconda3\\lib\\site-packages (from mlflow) (3.4.1)\n",
      "Requirement already satisfied: matplotlib<4 in c:\\users\\izzet\\anaconda3\\lib\\site-packages (from mlflow) (3.7.1)\n",
      "Requirement already satisfied: waitress<3 in c:\\users\\izzet\\anaconda3\\lib\\site-packages (from mlflow) (2.0.0)\n",
      "Requirement already satisfied: Jinja2<4,>=3.0 in c:\\users\\izzet\\anaconda3\\lib\\site-packages (from mlflow) (3.1.2)\n",
      "Requirement already satisfied: Mako in c:\\users\\izzet\\anaconda3\\lib\\site-packages (from alembic!=1.10.0,<2->mlflow) (1.2.3)\n",
      "Requirement already satisfied: typing-extensions>=4 in c:\\users\\izzet\\anaconda3\\lib\\site-packages (from alembic!=1.10.0,<2->mlflow) (4.7.1)\n",
      "Requirement already satisfied: colorama in c:\\users\\izzet\\anaconda3\\lib\\site-packages (from click<9,>=7.0->mlflow) (0.4.6)\n",
      "Requirement already satisfied: urllib3>=1.26.0 in c:\\users\\izzet\\anaconda3\\lib\\site-packages (from docker<8,>=4.0.0->mlflow) (1.26.16)\n",
      "Requirement already satisfied: pywin32>=304 in c:\\users\\izzet\\anaconda3\\lib\\site-packages (from docker<8,>=4.0.0->mlflow) (305.1)\n",
      "Requirement already satisfied: Werkzeug>=2.2.2 in c:\\users\\izzet\\anaconda3\\lib\\site-packages (from Flask<4->mlflow) (2.2.3)\n",
      "Requirement already satisfied: itsdangerous>=2.0 in c:\\users\\izzet\\anaconda3\\lib\\site-packages (from Flask<4->mlflow) (2.0.1)\n",
      "Requirement already satisfied: gitdb<5,>=4.0.1 in c:\\users\\izzet\\anaconda3\\lib\\site-packages (from gitpython<4,>=2.1.0->mlflow) (4.0.11)\n",
      "Requirement already satisfied: zipp>=0.5 in c:\\users\\izzet\\anaconda3\\lib\\site-packages (from importlib-metadata!=4.7.0,<8,>=3.7.0->mlflow) (3.11.0)\n",
      "Requirement already satisfied: MarkupSafe>=2.0 in c:\\users\\izzet\\anaconda3\\lib\\site-packages (from Jinja2<4,>=3.0->mlflow) (2.1.1)\n",
      "Requirement already satisfied: contourpy>=1.0.1 in c:\\users\\izzet\\anaconda3\\lib\\site-packages (from matplotlib<4->mlflow) (1.0.5)\n",
      "Requirement already satisfied: cycler>=0.10 in c:\\users\\izzet\\anaconda3\\lib\\site-packages (from matplotlib<4->mlflow) (0.11.0)\n",
      "Requirement already satisfied: fonttools>=4.22.0 in c:\\users\\izzet\\anaconda3\\lib\\site-packages (from matplotlib<4->mlflow) (4.25.0)\n",
      "Requirement already satisfied: kiwisolver>=1.0.1 in c:\\users\\izzet\\anaconda3\\lib\\site-packages (from matplotlib<4->mlflow) (1.4.4)\n",
      "Requirement already satisfied: pillow>=6.2.0 in c:\\users\\izzet\\anaconda3\\lib\\site-packages (from matplotlib<4->mlflow) (9.4.0)\n",
      "Requirement already satisfied: pyparsing>=2.3.1 in c:\\users\\izzet\\anaconda3\\lib\\site-packages (from matplotlib<4->mlflow) (3.0.9)\n",
      "Requirement already satisfied: python-dateutil>=2.7 in c:\\users\\izzet\\anaconda3\\lib\\site-packages (from matplotlib<4->mlflow) (2.8.2)\n",
      "Requirement already satisfied: six in c:\\users\\izzet\\anaconda3\\lib\\site-packages (from querystring-parser<2->mlflow) (1.16.0)\n",
      "Requirement already satisfied: charset-normalizer<4,>=2 in c:\\users\\izzet\\anaconda3\\lib\\site-packages (from requests<3,>=2.17.3->mlflow) (2.0.4)\n",
      "Requirement already satisfied: idna<4,>=2.5 in c:\\users\\izzet\\anaconda3\\lib\\site-packages (from requests<3,>=2.17.3->mlflow) (3.4)\n",
      "Requirement already satisfied: certifi>=2017.4.17 in c:\\users\\izzet\\anaconda3\\lib\\site-packages (from requests<3,>=2.17.3->mlflow) (2024.2.2)\n",
      "Requirement already satisfied: joblib>=1.1.1 in c:\\users\\izzet\\anaconda3\\lib\\site-packages (from scikit-learn<2->mlflow) (1.2.0)\n",
      "Requirement already satisfied: threadpoolctl>=2.0.0 in c:\\users\\izzet\\anaconda3\\lib\\site-packages (from scikit-learn<2->mlflow) (2.2.0)\n",
      "Requirement already satisfied: greenlet!=0.4.17 in c:\\users\\izzet\\anaconda3\\lib\\site-packages (from sqlalchemy<3,>=1.4.0->mlflow) (2.0.1)\n",
      "Requirement already satisfied: smmap<6,>=3.0.1 in c:\\users\\izzet\\anaconda3\\lib\\site-packages (from gitdb<5,>=4.0.1->gitpython<4,>=2.1.0->mlflow) (4.0.0)\n",
      "Collecting xgboost\n",
      "  Obtaining dependency information for xgboost from https://files.pythonhosted.org/packages/24/ec/ad387100fa3cc2b9b81af0829b5ecfe75ec5bb19dd7c19d4fea06fb81802/xgboost-2.0.3-py3-none-win_amd64.whl.metadata\n",
      "  Using cached xgboost-2.0.3-py3-none-win_amd64.whl.metadata (2.0 kB)\n",
      "Requirement already satisfied: numpy in c:\\users\\izzet\\anaconda3\\lib\\site-packages (from xgboost) (1.24.3)\n",
      "Requirement already satisfied: scipy in c:\\users\\izzet\\anaconda3\\lib\\site-packages (from xgboost) (1.10.1)\n",
      "Downloading xgboost-2.0.3-py3-none-win_amd64.whl (99.8 MB)\n",
      "   ---------------------------------------- 0.0/99.8 MB ? eta -:--:--\n",
      "   ---------------------------------------- 0.1/99.8 MB 2.6 MB/s eta 0:00:39\n",
      "   ---------------------------------------- 0.4/99.8 MB 5.4 MB/s eta 0:00:19\n",
      "   ---------------------------------------- 0.7/99.8 MB 5.6 MB/s eta 0:00:18\n",
      "   ---------------------------------------- 1.1/99.8 MB 6.3 MB/s eta 0:00:16\n",
      "    --------------------------------------- 1.4/99.8 MB 6.2 MB/s eta 0:00:16\n",
      "    --------------------------------------- 1.8/99.8 MB 7.0 MB/s eta 0:00:14\n",
      "    --------------------------------------- 2.2/99.8 MB 7.4 MB/s eta 0:00:14\n",
      "   - -------------------------------------- 2.7/99.8 MB 7.7 MB/s eta 0:00:13\n",
      "   - -------------------------------------- 3.1/99.8 MB 8.3 MB/s eta 0:00:12\n",
      "   - -------------------------------------- 3.7/99.8 MB 8.7 MB/s eta 0:00:12\n",
      "   - -------------------------------------- 4.3/99.8 MB 9.2 MB/s eta 0:00:11\n",
      "   -- ------------------------------------- 5.0/99.8 MB 9.7 MB/s eta 0:00:10\n",
      "   -- ------------------------------------- 5.6/99.8 MB 9.7 MB/s eta 0:00:10\n",
      "   -- ------------------------------------- 6.2/99.8 MB 10.1 MB/s eta 0:00:10\n",
      "   -- ------------------------------------- 6.7/99.8 MB 10.2 MB/s eta 0:00:10\n",
      "   -- ------------------------------------- 7.3/99.8 MB 10.6 MB/s eta 0:00:09\n",
      "   --- ------------------------------------ 8.0/99.8 MB 10.9 MB/s eta 0:00:09\n",
      "   --- ------------------------------------ 8.7/99.8 MB 11.1 MB/s eta 0:00:09\n",
      "   --- ------------------------------------ 9.5/99.8 MB 11.5 MB/s eta 0:00:08\n",
      "   ---- ----------------------------------- 10.1/99.8 MB 11.7 MB/s eta 0:00:08\n",
      "   ---- ----------------------------------- 10.1/99.8 MB 11.7 MB/s eta 0:00:08\n",
      "   ---- ----------------------------------- 10.8/99.8 MB 11.9 MB/s eta 0:00:08\n",
      "   ---- ----------------------------------- 11.5/99.8 MB 12.4 MB/s eta 0:00:08\n",
      "   ----- ---------------------------------- 12.6/99.8 MB 13.6 MB/s eta 0:00:07\n",
      "   ----- ---------------------------------- 13.3/99.8 MB 13.9 MB/s eta 0:00:07\n",
      "   ----- ---------------------------------- 14.1/99.8 MB 14.2 MB/s eta 0:00:07\n",
      "   ----- ---------------------------------- 14.7/99.8 MB 14.6 MB/s eta 0:00:06\n",
      "   ------ --------------------------------- 15.6/99.8 MB 14.9 MB/s eta 0:00:06\n",
      "   ------ --------------------------------- 16.2/99.8 MB 14.6 MB/s eta 0:00:06\n",
      "   ------ --------------------------------- 16.6/99.8 MB 14.9 MB/s eta 0:00:06\n",
      "   ------- -------------------------------- 17.8/99.8 MB 15.6 MB/s eta 0:00:06\n",
      "   ------- -------------------------------- 18.4/99.8 MB 15.6 MB/s eta 0:00:06\n",
      "   ------- -------------------------------- 19.1/99.8 MB 15.6 MB/s eta 0:00:06\n",
      "   ------- -------------------------------- 19.8/99.8 MB 14.9 MB/s eta 0:00:06\n",
      "   -------- ------------------------------- 20.2/99.8 MB 14.2 MB/s eta 0:00:06\n",
      "   -------- ------------------------------- 21.1/99.8 MB 16.4 MB/s eta 0:00:05\n",
      "   -------- ------------------------------- 21.8/99.8 MB 16.4 MB/s eta 0:00:05\n",
      "   --------- ------------------------------ 22.7/99.8 MB 16.8 MB/s eta 0:00:05\n",
      "   --------- ------------------------------ 22.7/99.8 MB 16.8 MB/s eta 0:00:05\n",
      "   --------- ------------------------------ 23.1/99.8 MB 15.6 MB/s eta 0:00:05\n",
      "   --------- ------------------------------ 23.7/99.8 MB 14.9 MB/s eta 0:00:06\n",
      "   --------- ------------------------------ 24.5/99.8 MB 14.9 MB/s eta 0:00:06\n",
      "   ---------- ----------------------------- 25.1/99.8 MB 14.5 MB/s eta 0:00:06\n",
      "   ---------- ----------------------------- 25.8/99.8 MB 14.9 MB/s eta 0:00:05\n",
      "   ---------- ----------------------------- 26.3/99.8 MB 14.9 MB/s eta 0:00:05\n",
      "   ---------- ----------------------------- 26.8/99.8 MB 15.2 MB/s eta 0:00:05\n",
      "   ----------- ---------------------------- 27.5/99.8 MB 14.2 MB/s eta 0:00:06\n",
      "   ----------- ---------------------------- 28.2/99.8 MB 13.6 MB/s eta 0:00:06\n",
      "   ----------- ---------------------------- 28.7/99.8 MB 13.9 MB/s eta 0:00:06\n",
      "   ----------- ---------------------------- 29.4/99.8 MB 13.9 MB/s eta 0:00:06\n",
      "   ------------ --------------------------- 30.2/99.8 MB 14.2 MB/s eta 0:00:05\n",
      "   ------------ --------------------------- 30.8/99.8 MB 13.6 MB/s eta 0:00:06\n",
      "   ------------ --------------------------- 31.6/99.8 MB 13.6 MB/s eta 0:00:05\n",
      "   ------------ --------------------------- 32.2/99.8 MB 13.4 MB/s eta 0:00:06\n",
      "   ------------- -------------------------- 32.9/99.8 MB 13.1 MB/s eta 0:00:06\n",
      "   ------------- -------------------------- 33.7/99.8 MB 14.2 MB/s eta 0:00:05\n",
      "   ------------- -------------------------- 34.2/99.8 MB 14.2 MB/s eta 0:00:05\n",
      "   -------------- ------------------------- 34.9/99.8 MB 13.9 MB/s eta 0:00:05\n",
      "   -------------- ------------------------- 35.7/99.8 MB 14.2 MB/s eta 0:00:05\n",
      "   -------------- ------------------------- 36.2/99.8 MB 14.2 MB/s eta 0:00:05\n",
      "   -------------- ------------------------- 37.0/99.8 MB 14.6 MB/s eta 0:00:05\n",
      "   --------------- ------------------------ 37.7/99.8 MB 14.9 MB/s eta 0:00:05\n",
      "   --------------- ------------------------ 38.3/99.8 MB 14.9 MB/s eta 0:00:05\n",
      "   --------------- ------------------------ 39.5/99.8 MB 16.0 MB/s eta 0:00:04\n",
      "   ---------------- ----------------------- 40.2/99.8 MB 15.6 MB/s eta 0:00:04\n",
      "   ---------------- ----------------------- 41.1/99.8 MB 16.4 MB/s eta 0:00:04\n",
      "   ---------------- ----------------------- 41.7/99.8 MB 16.4 MB/s eta 0:00:04\n",
      "   ----------------- ---------------------- 42.5/99.8 MB 16.4 MB/s eta 0:00:04\n",
      "   ----------------- ---------------------- 43.4/99.8 MB 16.8 MB/s eta 0:00:04\n",
      "   ----------------- ---------------------- 44.1/99.8 MB 16.8 MB/s eta 0:00:04\n",
      "   ----------------- ---------------------- 44.7/99.8 MB 16.4 MB/s eta 0:00:04\n",
      "   ------------------ --------------------- 45.6/99.8 MB 17.2 MB/s eta 0:00:04\n",
      "   ------------------ --------------------- 46.3/99.8 MB 17.7 MB/s eta 0:00:04\n",
      "   ------------------ --------------------- 47.1/99.8 MB 17.7 MB/s eta 0:00:03\n",
      "   ------------------- -------------------- 47.7/99.8 MB 17.7 MB/s eta 0:00:03\n",
      "   ------------------- -------------------- 48.8/99.8 MB 18.2 MB/s eta 0:00:03\n",
      "   ------------------- -------------------- 49.8/99.8 MB 18.2 MB/s eta 0:00:03\n",
      "   -------------------- ------------------- 50.5/99.8 MB 17.7 MB/s eta 0:00:03\n",
      "   -------------------- ------------------- 51.5/99.8 MB 18.2 MB/s eta 0:00:03\n",
      "   -------------------- ------------------- 52.3/99.8 MB 17.7 MB/s eta 0:00:03\n",
      "   --------------------- ------------------ 53.0/99.8 MB 18.2 MB/s eta 0:00:03\n",
      "   --------------------- ------------------ 53.7/99.8 MB 18.2 MB/s eta 0:00:03\n",
      "   --------------------- ------------------ 54.5/99.8 MB 18.2 MB/s eta 0:00:03\n",
      "   ---------------------- ----------------- 54.9/99.8 MB 17.3 MB/s eta 0:00:03\n",
      "   ---------------------- ----------------- 55.6/99.8 MB 17.7 MB/s eta 0:00:03\n",
      "   ---------------------- ----------------- 56.5/99.8 MB 17.2 MB/s eta 0:00:03\n",
      "   ---------------------- ----------------- 57.1/99.8 MB 16.8 MB/s eta 0:00:03\n",
      "   ----------------------- ---------------- 58.1/99.8 MB 17.3 MB/s eta 0:00:03\n",
      "   ----------------------- ---------------- 59.1/99.8 MB 16.8 MB/s eta 0:00:03\n",
      "   ------------------------ --------------- 59.9/99.8 MB 16.8 MB/s eta 0:00:03\n",
      "   ------------------------ --------------- 61.0/99.8 MB 17.2 MB/s eta 0:00:03\n",
      "   ------------------------ --------------- 61.9/99.8 MB 16.8 MB/s eta 0:00:03\n",
      "   ------------------------- -------------- 62.8/99.8 MB 16.8 MB/s eta 0:00:03\n",
      "   ------------------------- -------------- 63.7/99.8 MB 16.8 MB/s eta 0:00:03\n",
      "   ------------------------- -------------- 64.5/99.8 MB 16.4 MB/s eta 0:00:03\n",
      "   -------------------------- ------------- 65.2/99.8 MB 17.2 MB/s eta 0:00:03\n",
      "   -------------------------- ------------- 66.2/99.8 MB 17.2 MB/s eta 0:00:02\n",
      "   -------------------------- ------------- 67.2/99.8 MB 17.7 MB/s eta 0:00:02\n",
      "   --------------------------- ------------ 67.9/99.8 MB 18.2 MB/s eta 0:00:02\n",
      "   --------------------------- ------------ 68.7/99.8 MB 18.2 MB/s eta 0:00:02\n",
      "   --------------------------- ------------ 69.5/99.8 MB 18.2 MB/s eta 0:00:02\n",
      "   ---------------------------- ----------- 70.1/99.8 MB 18.2 MB/s eta 0:00:02\n",
      "   ---------------------------- ----------- 70.9/99.8 MB 18.2 MB/s eta 0:00:02\n",
      "   ---------------------------- ----------- 71.6/99.8 MB 17.7 MB/s eta 0:00:02\n",
      "   ----------------------------- ---------- 72.5/99.8 MB 17.7 MB/s eta 0:00:02\n",
      "   ----------------------------- ---------- 73.4/99.8 MB 17.7 MB/s eta 0:00:02\n",
      "   ----------------------------- ---------- 74.3/99.8 MB 17.7 MB/s eta 0:00:02\n",
      "   ------------------------------ --------- 75.0/99.8 MB 18.2 MB/s eta 0:00:02\n",
      "   ------------------------------ --------- 75.8/99.8 MB 18.2 MB/s eta 0:00:02\n",
      "   ------------------------------ --------- 76.6/99.8 MB 17.7 MB/s eta 0:00:02\n",
      "   ------------------------------- -------- 77.5/99.8 MB 17.7 MB/s eta 0:00:02\n",
      "   ------------------------------- -------- 78.4/99.8 MB 17.7 MB/s eta 0:00:02\n",
      "   ------------------------------- -------- 79.2/99.8 MB 18.2 MB/s eta 0:00:02\n",
      "   -------------------------------- ------- 79.9/99.8 MB 18.2 MB/s eta 0:00:02\n",
      "   -------------------------------- ------- 80.9/99.8 MB 18.2 MB/s eta 0:00:02\n",
      "   -------------------------------- ------- 82.0/99.8 MB 18.7 MB/s eta 0:00:01\n",
      "   --------------------------------- ------ 83.0/99.8 MB 18.7 MB/s eta 0:00:01\n",
      "   --------------------------------- ------ 84.2/99.8 MB 18.7 MB/s eta 0:00:01\n",
      "   ---------------------------------- ----- 84.9/99.8 MB 18.7 MB/s eta 0:00:01\n",
      "   ---------------------------------- ----- 85.4/99.8 MB 18.2 MB/s eta 0:00:01\n",
      "   ---------------------------------- ----- 86.2/99.8 MB 17.7 MB/s eta 0:00:01\n",
      "   ---------------------------------- ----- 86.9/99.8 MB 18.2 MB/s eta 0:00:01\n",
      "   ----------------------------------- ---- 87.5/99.8 MB 17.7 MB/s eta 0:00:01\n",
      "   ----------------------------------- ---- 88.1/99.8 MB 16.8 MB/s eta 0:00:01\n",
      "   ----------------------------------- ---- 88.7/99.8 MB 16.4 MB/s eta 0:00:01\n",
      "   ----------------------------------- ---- 89.2/99.8 MB 16.4 MB/s eta 0:00:01\n",
      "   ------------------------------------ --- 89.9/99.8 MB 16.0 MB/s eta 0:00:01\n",
      "   ------------------------------------ --- 90.7/99.8 MB 16.0 MB/s eta 0:00:01\n",
      "   ------------------------------------ --- 91.1/99.8 MB 15.6 MB/s eta 0:00:01\n",
      "   ------------------------------------ --- 91.6/99.8 MB 15.2 MB/s eta 0:00:01\n",
      "   ------------------------------------- -- 92.3/99.8 MB 14.2 MB/s eta 0:00:01\n",
      "   ------------------------------------- -- 93.0/99.8 MB 13.9 MB/s eta 0:00:01\n",
      "   ------------------------------------- -- 93.7/99.8 MB 13.9 MB/s eta 0:00:01\n",
      "   ------------------------------------- -- 94.1/99.8 MB 13.6 MB/s eta 0:00:01\n",
      "   -------------------------------------- - 94.9/99.8 MB 13.1 MB/s eta 0:00:01\n",
      "   -------------------------------------- - 95.3/99.8 MB 13.4 MB/s eta 0:00:01\n",
      "   -------------------------------------- - 95.3/99.8 MB 13.4 MB/s eta 0:00:01\n",
      "   -------------------------------------- - 95.8/99.8 MB 12.6 MB/s eta 0:00:01\n",
      "   -------------------------------------- - 95.8/99.8 MB 12.4 MB/s eta 0:00:01\n",
      "   -------------------------------------- - 96.1/99.8 MB 11.7 MB/s eta 0:00:01\n",
      "   -------------------------------------- - 96.3/99.8 MB 11.5 MB/s eta 0:00:01\n",
      "   -------------------------------------- - 96.3/99.8 MB 10.4 MB/s eta 0:00:01\n",
      "   -------------------------------------- - 96.5/99.8 MB 10.6 MB/s eta 0:00:01\n",
      "   -------------------------------------- - 96.7/99.8 MB 10.1 MB/s eta 0:00:01\n",
      "   -------------------------------------- - 96.9/99.8 MB 9.6 MB/s eta 0:00:01\n",
      "   -------------------------------------- - 97.1/99.8 MB 9.4 MB/s eta 0:00:01\n",
      "   -------------------------------------- - 97.2/99.8 MB 9.2 MB/s eta 0:00:01\n",
      "   ---------------------------------------  97.4/99.8 MB 8.7 MB/s eta 0:00:01\n",
      "   ---------------------------------------  97.4/99.8 MB 8.7 MB/s eta 0:00:01\n",
      "   ---------------------------------------  97.7/99.8 MB 8.4 MB/s eta 0:00:01\n",
      "   ---------------------------------------  98.1/99.8 MB 8.2 MB/s eta 0:00:01\n",
      "   ---------------------------------------  98.1/99.8 MB 8.3 MB/s eta 0:00:01\n",
      "   ---------------------------------------  98.3/99.8 MB 7.9 MB/s eta 0:00:01\n",
      "   ---------------------------------------  98.6/99.8 MB 7.6 MB/s eta 0:00:01\n",
      "   ---------------------------------------  98.9/99.8 MB 7.5 MB/s eta 0:00:01\n",
      "   ---------------------------------------  99.1/99.8 MB 7.4 MB/s eta 0:00:01\n",
      "   ---------------------------------------  99.3/99.8 MB 7.2 MB/s eta 0:00:01\n",
      "   ---------------------------------------  99.3/99.8 MB 7.1 MB/s eta 0:00:01\n",
      "   ---------------------------------------  99.5/99.8 MB 6.9 MB/s eta 0:00:01\n",
      "   ---------------------------------------  99.7/99.8 MB 6.7 MB/s eta 0:00:01\n",
      "   ---------------------------------------  99.7/99.8 MB 6.6 MB/s eta 0:00:01\n",
      "   ---------------------------------------  99.7/99.8 MB 6.6 MB/s eta 0:00:01\n",
      "   ---------------------------------------  99.7/99.8 MB 6.6 MB/s eta 0:00:01\n",
      "   ---------------------------------------  99.7/99.8 MB 6.6 MB/s eta 0:00:01\n",
      "   ---------------------------------------  99.7/99.8 MB 6.6 MB/s eta 0:00:01\n",
      "   ---------------------------------------  99.7/99.8 MB 6.6 MB/s eta 0:00:01\n",
      "   ---------------------------------------  99.7/99.8 MB 6.6 MB/s eta 0:00:01\n",
      "   ---------------------------------------  99.7/99.8 MB 6.6 MB/s eta 0:00:01\n",
      "   ---------------------------------------  99.7/99.8 MB 6.6 MB/s eta 0:00:01\n",
      "   ---------------------------------------  99.7/99.8 MB 6.6 MB/s eta 0:00:01\n",
      "   ---------------------------------------  99.7/99.8 MB 6.6 MB/s eta 0:00:01\n",
      "   ---------------------------------------  99.7/99.8 MB 6.6 MB/s eta 0:00:01\n",
      "   ---------------------------------------  99.7/99.8 MB 6.6 MB/s eta 0:00:01\n",
      "   ---------------------------------------  99.7/99.8 MB 6.6 MB/s eta 0:00:01\n",
      "   ---------------------------------------  99.7/99.8 MB 6.6 MB/s eta 0:00:01\n",
      "   ---------------------------------------  99.7/99.8 MB 6.6 MB/s eta 0:00:01\n",
      "   ---------------------------------------  99.7/99.8 MB 6.6 MB/s eta 0:00:01\n",
      "   ---------------------------------------  99.7/99.8 MB 6.6 MB/s eta 0:00:01\n",
      "   ---------------------------------------  99.7/99.8 MB 6.6 MB/s eta 0:00:01\n",
      "   ---------------------------------------  99.7/99.8 MB 6.6 MB/s eta 0:00:01\n",
      "   ---------------------------------------  99.7/99.8 MB 6.6 MB/s eta 0:00:01\n",
      "   ---------------------------------------  99.7/99.8 MB 6.6 MB/s eta 0:00:01\n",
      "   ---------------------------------------  99.7/99.8 MB 6.6 MB/s eta 0:00:01\n",
      "   ---------------------------------------  99.7/99.8 MB 6.6 MB/s eta 0:00:01\n",
      "   ---------------------------------------  99.7/99.8 MB 6.6 MB/s eta 0:00:01\n",
      "   ---------------------------------------  99.7/99.8 MB 6.6 MB/s eta 0:00:01\n",
      "   ---------------------------------------  99.7/99.8 MB 6.6 MB/s eta 0:00:01\n",
      "   ---------------------------------------- 99.8/99.8 MB 3.5 MB/s eta 0:00:00\n",
      "Installing collected packages: xgboost\n",
      "Successfully installed xgboost-2.0.3\n"
     ]
    }
   ],
   "source": [
    "\"\"\"\n",
    "!pip install mlflow\n",
    "!pip install xgboost\n",
    "\"\"\""
   ]
  },
  {
   "cell_type": "markdown",
   "metadata": {
    "id": "YpkZigmQJrDb"
   },
   "source": [
    "# Import\n"
   ]
  },
  {
   "cell_type": "code",
   "execution_count": 1,
   "metadata": {
    "id": "U4uOuLB48xD0"
   },
   "outputs": [],
   "source": [
    "import pandas as pd\n",
    "import matplotlib.pyplot as plt\n",
    "import numpy as np\n",
    "import mlflow\n",
    "\n",
    "from sklearn.preprocessing import StandardScaler\n",
    "from sklearn.model_selection import train_test_split\n",
    "from sklearn.metrics import mean_squared_error\n",
    "from sklearn.model_selection import cross_val_score\n",
    "from sklearn.metrics import r2_score\n",
    "\n",
    "from sklearn.neighbors import KNeighborsRegressor\n",
    "from sklearn.ensemble import RandomForestRegressor\n",
    "import xgboost as xgb\n",
    "from sklearn.linear_model import LinearRegression\n",
    "from sklearn.svm import SVR\n",
    "from sklearn.linear_model import Lasso\n",
    "from sklearn.linear_model import Ridge\n"
   ]
  },
  {
   "cell_type": "code",
   "execution_count": 2,
   "metadata": {},
   "outputs": [],
   "source": [
    "%matplotlib inline\n",
    "plt.rcParams[\"figure.figsize\"] = (20,10)\n",
    "plt.rcParams.update({'font.size': 15})"
   ]
  },
  {
   "cell_type": "code",
   "execution_count": 3,
   "metadata": {},
   "outputs": [],
   "source": [
    "mlflow.set_tracking_uri(\"sqlite:///mlflow.db\")\n",
    "mlflow.set_experiment(\"liver_patient_register\")\n",
    "EXP_ID = mlflow.get_experiment_by_name(\"liver_patient_register\").experiment_id"
   ]
  },
  {
   "cell_type": "markdown",
   "metadata": {
    "id": "nzzkbFemYAm1"
   },
   "source": [
    "# Dataset And Target Column Selection"
   ]
  },
  {
   "cell_type": "code",
   "execution_count": 4,
   "metadata": {
    "id": "6hKjWMW6Gvf3"
   },
   "outputs": [],
   "source": [
    "SELECTED_DATASET = \"indian-liver-patient.csv\"\n",
    "SELECTED_COLUMN = \"Albumin\""
   ]
  },
  {
   "cell_type": "markdown",
   "metadata": {
    "id": "Iq8FiAyFYGe5"
   },
   "source": [
    "# Data Preproccessing"
   ]
  },
  {
   "cell_type": "code",
   "execution_count": 5,
   "metadata": {
    "id": "3oBNA8FOJ5nc"
   },
   "outputs": [],
   "source": [
    "df = pd.read_csv(SELECTED_DATASET)\n",
    "# Drop rows with any NaN values\n",
    "df_clean = df.dropna()\n",
    "# Select categorical variables from df_clean\n",
    "categorical_cols = df_clean.select_dtypes(include=['object']).columns\n",
    "\n",
    "# Apply one-hot encoding to the categorical variables\n",
    "df_encoded = pd.get_dummies(df_clean, columns=categorical_cols)\n",
    "# Shuffle the dataset\n",
    "df_shuffled = df_encoded.sample(frac=1).reset_index(drop=True)\n",
    "# Initialize the scaler\n",
    "scaler = StandardScaler()\n",
    "\n",
    "# Fit and transform the numeric columns\n",
    "numeric_columns_scaled = scaler.fit_transform(df_shuffled)\n",
    "\n",
    "# Convert the scaled numeric columns back to a DataFrame\n",
    "df_scaled = pd.DataFrame(numeric_columns_scaled, columns=df_shuffled.columns)\n",
    "y = df_scaled[SELECTED_COLUMN]\n",
    "X = df_scaled.drop(columns = [SELECTED_COLUMN])\n",
    "# Split the data into a training set and a test set\n",
    "X_train, X_test, y_train, y_test = train_test_split(X, y, test_size=0.2, random_state=42)"
   ]
  },
  {
   "cell_type": "markdown",
   "metadata": {},
   "source": [
    "# Random Forest"
   ]
  },
  {
   "cell_type": "code",
   "execution_count": 21,
   "metadata": {
    "id": "jQb1x-j1J8KX"
   },
   "outputs": [
    {
     "name": "stderr",
     "output_type": "stream",
     "text": [
      "Successfully registered model 'my_rf'.\n",
      "Created version '1' of model 'my_rf'.\n"
     ]
    }
   ],
   "source": [
    "mlflow.sklearn.autolog(disable=True)\n",
    "\n",
    "with mlflow.start_run(run_name='rf_model', experiment_id = EXP_ID ) as run:\n",
    "    # Fit model\n",
    "    rf = RandomForestRegressor(n_estimators=100, max_depth=20)\n",
    "    rf.fit(X_train, y_train)\n",
    "\n",
    "    rf_preds = rf.predict(X_test)\n",
    "    \n",
    "    # Calculate the MSE\n",
    "    rf_rms = mean_squared_error(y_test, rf_preds)\n",
    "\n",
    "    # Save to MLFlow\n",
    "    params = {\n",
    "        \"n_estimators\": 100,\n",
    "        \"max_depth\": 20\n",
    "    }\n",
    "\n",
    "    mlflow.set_tag(\"model_name\", \"RF\")\n",
    "    mlflow.log_params(params)\n",
    "\n",
    "    mlflow.log_metric(\"test_rmse\", rf_rms)\n",
    "    mlflow.sklearn.log_model(rf, \"sk_models\" , registered_model_name=\"my_rf\")\n",
    "    "
   ]
  },
  {
   "cell_type": "markdown",
   "metadata": {},
   "source": [
    "# XGB"
   ]
  },
  {
   "cell_type": "code",
   "execution_count": 22,
   "metadata": {
    "id": "_eKwt1RKJ_hF",
    "scrolled": true
   },
   "outputs": [
    {
     "name": "stdout",
     "output_type": "stream",
     "text": [
      "[0]\ttest-rmse:0.91612\n",
      "[1]\ttest-rmse:0.89876\n",
      "[2]\ttest-rmse:0.82659\n",
      "[3]\ttest-rmse:0.77672\n",
      "[4]\ttest-rmse:0.71177\n",
      "[5]\ttest-rmse:0.66929\n",
      "[6]\ttest-rmse:0.63604\n",
      "[7]\ttest-rmse:0.59016\n",
      "[8]\ttest-rmse:0.55975\n",
      "[9]\ttest-rmse:0.55278\n",
      "[10]\ttest-rmse:0.51320\n",
      "[11]\ttest-rmse:0.47848\n",
      "[12]\ttest-rmse:0.46400\n",
      "[13]\ttest-rmse:0.43586\n",
      "[14]\ttest-rmse:0.41984\n",
      "[15]\ttest-rmse:0.40042\n",
      "[16]\ttest-rmse:0.38552\n",
      "[17]\ttest-rmse:0.37295\n",
      "[18]\ttest-rmse:0.35646\n",
      "[19]\ttest-rmse:0.34518\n",
      "[20]\ttest-rmse:0.32983\n",
      "[21]\ttest-rmse:0.32124\n",
      "[22]\ttest-rmse:0.31121\n",
      "[23]\ttest-rmse:0.30259\n",
      "[24]\ttest-rmse:0.30202\n",
      "[25]\ttest-rmse:0.29662\n",
      "[26]\ttest-rmse:0.29154\n",
      "[27]\ttest-rmse:0.28508\n",
      "[28]\ttest-rmse:0.27919\n",
      "[29]\ttest-rmse:0.28077\n",
      "[30]\ttest-rmse:0.27271\n",
      "[31]\ttest-rmse:0.27060\n",
      "[32]\ttest-rmse:0.26758\n",
      "[33]\ttest-rmse:0.26426\n",
      "[34]\ttest-rmse:0.25915\n",
      "[35]\ttest-rmse:0.25671\n",
      "[36]\ttest-rmse:0.25310\n",
      "[37]\ttest-rmse:0.25164\n",
      "[38]\ttest-rmse:0.24978\n",
      "[39]\ttest-rmse:0.25027\n",
      "[40]\ttest-rmse:0.24858\n",
      "[41]\ttest-rmse:0.24656\n",
      "[42]\ttest-rmse:0.24443\n",
      "[43]\ttest-rmse:0.24367\n",
      "[44]\ttest-rmse:0.24431\n",
      "[45]\ttest-rmse:0.24588\n",
      "[46]\ttest-rmse:0.24426\n",
      "[47]\ttest-rmse:0.24333\n",
      "[48]\ttest-rmse:0.24071\n",
      "[49]\ttest-rmse:0.23863\n",
      "[50]\ttest-rmse:0.23722\n",
      "[51]\ttest-rmse:0.23786\n",
      "[52]\ttest-rmse:0.23935\n",
      "[53]\ttest-rmse:0.23852\n",
      "[54]\ttest-rmse:0.23814\n",
      "[55]\ttest-rmse:0.23822\n",
      "[56]\ttest-rmse:0.23671\n",
      "[57]\ttest-rmse:0.23658\n",
      "[58]\ttest-rmse:0.23729\n",
      "[59]\ttest-rmse:0.23668\n",
      "[60]\ttest-rmse:0.23580\n",
      "[61]\ttest-rmse:0.23312\n",
      "[62]\ttest-rmse:0.23325\n",
      "[63]\ttest-rmse:0.23214\n",
      "[64]\ttest-rmse:0.23373\n",
      "[65]\ttest-rmse:0.23206\n",
      "[66]\ttest-rmse:0.23199\n",
      "[67]\ttest-rmse:0.23197\n",
      "[68]\ttest-rmse:0.23135\n",
      "[69]\ttest-rmse:0.23070\n",
      "[70]\ttest-rmse:0.23019\n",
      "[71]\ttest-rmse:0.23045\n",
      "[72]\ttest-rmse:0.23131\n",
      "[73]\ttest-rmse:0.23188\n",
      "[74]\ttest-rmse:0.23111\n",
      "[75]\ttest-rmse:0.23136\n",
      "[76]\ttest-rmse:0.23034\n",
      "[77]\ttest-rmse:0.22955\n",
      "[78]\ttest-rmse:0.23145\n",
      "[79]\ttest-rmse:0.23110\n",
      "[80]\ttest-rmse:0.23111\n",
      "[81]\ttest-rmse:0.23112\n",
      "[82]\ttest-rmse:0.23130\n",
      "[83]\ttest-rmse:0.23044\n",
      "[84]\ttest-rmse:0.22969\n",
      "[85]\ttest-rmse:0.23025\n",
      "[86]\ttest-rmse:0.23153\n",
      "[87]\ttest-rmse:0.23067\n"
     ]
    },
    {
     "name": "stderr",
     "output_type": "stream",
     "text": [
      "2024/03/04 13:53:49 WARNING mlflow.sklearn: Model was missing function: predict. Not logging python_function flavor!\n",
      "Successfully registered model 'my_xgb'.\n",
      "Created version '1' of model 'my_xgb'.\n"
     ]
    }
   ],
   "source": [
    "with mlflow.start_run(run_name='xgb_model', experiment_id = EXP_ID ) as run:\n",
    "\n",
    "    # Create a DMatrix for the training and test sets\n",
    "    dtrain = xgb.DMatrix(X_train, label=y_train)\n",
    "    dtest = xgb.DMatrix(X_test, label=y_test)\n",
    "\n",
    "    # Set the parameters for the XGBoost model\n",
    "    params = {\n",
    "        'objective': 'reg:squarederror',\n",
    "        'eval_metric': 'rmse',\n",
    "        'max_depth': 3,\n",
    "        'eta': 0.1,\n",
    "        'subsample': 0.7,\n",
    "        'colsample_bytree': 0.7\n",
    "    }\n",
    "\n",
    "    # Train the XGBoost model\n",
    "    model = xgb.train(params, dtrain, num_boost_round=1000, early_stopping_rounds=10, evals=[(dtest, 'test')])\n",
    "\n",
    "    # Make predictions on the test set\n",
    "    y_pred = model.predict(dtest)\n",
    "\n",
    "    # Calculate the MSE\n",
    "    xgb_rms = mean_squared_error(y_test, y_pred)\n",
    "    \n",
    "    mlflow.set_tag(\"model_name\", \"XGB\")\n",
    "    mlflow.log_params(params)\n",
    "\n",
    "    mlflow.log_metric(\"test_rmse\", xgb_rms)\n",
    "    mlflow.sklearn.log_model(xgb, \"sk_models\", registered_model_name=\"my_xgb\")\n",
    "    \n",
    "    "
   ]
  },
  {
   "cell_type": "markdown",
   "metadata": {},
   "source": [
    "# KNN"
   ]
  },
  {
   "cell_type": "code",
   "execution_count": 23,
   "metadata": {
    "id": "bJs0MndXKBB6"
   },
   "outputs": [
    {
     "name": "stderr",
     "output_type": "stream",
     "text": [
      "Successfully registered model 'my_knn'.\n",
      "Created version '1' of model 'my_knn'.\n"
     ]
    }
   ],
   "source": [
    "with mlflow.start_run(run_name='knn_model5', experiment_id = EXP_ID ) as run:\n",
    "    \n",
    "    # Create Model with n_neighbors = k\n",
    "    knn = KNeighborsRegressor(n_neighbors = 5)\n",
    "\n",
    "    # Train the model\n",
    "    knn.fit(X_train, y_train)\n",
    "\n",
    "    # Make predictions on the test set\n",
    "    y_pred = knn.predict(X_test)\n",
    "\n",
    "    # Calculate the MSE\n",
    "    knn_rms = mean_squared_error(y_test, y_pred)\n",
    "    \n",
    "    params = {\n",
    "        \"n_neighbors\" : 5\n",
    "    }\n",
    "    \n",
    "    \n",
    "    mlflow.set_tag(\"model_name\", \"KNN5\")\n",
    "    mlflow.log_params(params)\n",
    "\n",
    "    mlflow.log_metric(\"test_rmse\", knn_rms)\n",
    "    mlflow.sklearn.log_model(knn, \"sk_models\" , registered_model_name=\"my_knn\")\n",
    "    "
   ]
  },
  {
   "cell_type": "markdown",
   "metadata": {},
   "source": [
    "# Linear Regression"
   ]
  },
  {
   "cell_type": "code",
   "execution_count": 24,
   "metadata": {
    "id": "1oXwOdd2K2QZ"
   },
   "outputs": [
    {
     "name": "stderr",
     "output_type": "stream",
     "text": [
      "Successfully registered model 'my_lin_reg'.\n",
      "Created version '1' of model 'my_lin_reg'.\n"
     ]
    }
   ],
   "source": [
    "with mlflow.start_run(run_name='lin_reg_model', experiment_id = EXP_ID ) as run:\n",
    "\n",
    "    # Fit a linear regression model to the polynomial features\n",
    "    lin_reg = LinearRegression()\n",
    "    lin_reg.fit(X_train, y_train)\n",
    "\n",
    "    # Make predictions on the test set\n",
    "    y_pred = lin_reg.predict(X_test)\n",
    "\n",
    "    # Calculate the MSE\n",
    "    lin_reg_rms = mean_squared_error(y_test, y_pred)\n",
    "        \n",
    "    params = {}\n",
    "            \n",
    "    \n",
    "    mlflow.set_tag(\"model_name\", \"LinReg\")\n",
    "    mlflow.log_params(params)\n",
    "\n",
    "    mlflow.log_metric(\"test_rmse\", lin_reg_rms)\n",
    "    mlflow.sklearn.log_model(lin_reg, \"sk_models\" , registered_model_name=\"my_lin_reg\")\n",
    "    "
   ]
  },
  {
   "cell_type": "markdown",
   "metadata": {},
   "source": [
    "# SVR"
   ]
  },
  {
   "cell_type": "code",
   "execution_count": 25,
   "metadata": {
    "colab": {
     "base_uri": "https://localhost:8080/"
    },
    "id": "k2Fxdp13K9NT",
    "outputId": "d798b8e2-a860-47cd-c464-a59c3219d233"
   },
   "outputs": [
    {
     "name": "stderr",
     "output_type": "stream",
     "text": [
      "Successfully registered model 'my_svr'.\n",
      "Created version '1' of model 'my_svr'.\n"
     ]
    }
   ],
   "source": [
    "with mlflow.start_run(run_name='svr_model', experiment_id = EXP_ID ) as run:\n",
    "\n",
    "    # Fit the SVR model to the data\n",
    "    svr = SVR(kernel='poly', C=100, epsilon=0.1, degree=5, gamma='auto')\n",
    "    svr.fit(X, y.ravel())\n",
    "\n",
    "    # Make predictions on the test set\n",
    "    y_pred = svr.predict(X_test)\n",
    "\n",
    "    # Calculate the MSE\n",
    "    svr_rms = mean_squared_error(y_test, y_pred)\n",
    "\n",
    "    params = {\n",
    "        \"kernel\" : 'poly',\n",
    "        \"C\" : 100, \n",
    "        \"epsilon\" : 0.1,\n",
    "        \"degree\" : 5,\n",
    "        \"gamma\" :'auto'\n",
    "    }\n",
    "            \n",
    "    \n",
    "    mlflow.set_tag(\"model_name\", \"SVR\")\n",
    "    mlflow.log_params(params)\n",
    "\n",
    "    mlflow.log_metric(\"test_rmse\", svr_rms)\n",
    "    mlflow.sklearn.log_model(svr, \"sk_models\", registered_model_name=\"my_svr\")\n",
    "    "
   ]
  },
  {
   "cell_type": "markdown",
   "metadata": {},
   "source": [
    "# LASSO"
   ]
  },
  {
   "cell_type": "code",
   "execution_count": 26,
   "metadata": {
    "colab": {
     "base_uri": "https://localhost:8080/"
    },
    "id": "8pRFOjb-LdK5",
    "outputId": "87a3de97-45df-4313-8337-eeee47587b21"
   },
   "outputs": [
    {
     "name": "stderr",
     "output_type": "stream",
     "text": [
      "Successfully registered model 'my_lasso'.\n",
      "Created version '1' of model 'my_lasso'.\n"
     ]
    }
   ],
   "source": [
    "with mlflow.start_run(run_name='lasso_model', experiment_id = EXP_ID ) as run:\n",
    "\n",
    "    # Fit the Lasso regression model to the training data\n",
    "    lasso = Lasso(alpha=0.2)\n",
    "    lasso.fit(X_train, y_train)\n",
    "\n",
    "    # Make predictions on the test data\n",
    "    y_pred = lasso.predict(X_test)\n",
    "\n",
    "    # Calculate the MSE\n",
    "    lasso_rms = mean_squared_error(y_test, y_pred)\n",
    "    \n",
    "    \n",
    "    params = {\n",
    "        \"alpha\": 0.2\n",
    "    }\n",
    "            \n",
    "    \n",
    "    mlflow.set_tag(\"model_name\", \"Lasso\")\n",
    "    mlflow.log_params(params)\n",
    "\n",
    "    mlflow.log_metric(\"test_rmse\", lasso_rms)\n",
    "    mlflow.sklearn.log_model(lasso, \"sk_models\", registered_model_name=\"my_lasso\")\n"
   ]
  },
  {
   "cell_type": "markdown",
   "metadata": {},
   "source": [
    "# Ridge"
   ]
  },
  {
   "cell_type": "code",
   "execution_count": 27,
   "metadata": {
    "id": "DwAXnqBPNMVd"
   },
   "outputs": [
    {
     "name": "stderr",
     "output_type": "stream",
     "text": [
      "Successfully registered model 'my_ridge'.\n",
      "Created version '1' of model 'my_ridge'.\n"
     ]
    }
   ],
   "source": [
    "with mlflow.start_run(run_name='ridge_model', experiment_id = EXP_ID ) as run:\n",
    "\n",
    "    # Fit the Ridge regression model to the training data\n",
    "    ridge = Ridge(alpha=0.2)\n",
    "    ridge.fit(X_train, y_train)\n",
    "\n",
    "    # Make predictions on the test data\n",
    "    y_pred = ridge.predict(X_test)\n",
    "\n",
    "    # Calculate the MSE\n",
    "    ridge_rms = mean_squared_error(y_test, y_pred)    \n",
    "    \n",
    "    params = {\n",
    "        \"alpha\": 0.2\n",
    "    }\n",
    "            \n",
    "    \n",
    "    mlflow.set_tag(\"model_name\", \"Ridge\")\n",
    "    mlflow.log_params(params)\n",
    "\n",
    "    mlflow.log_metric(\"test_rmse\", ridge_rms)\n",
    "    mlflow.sklearn.log_model(ridge, \"sk_models\", registered_model_name=\"my_ridge\")\n"
   ]
  },
  {
   "cell_type": "code",
   "execution_count": 28,
   "metadata": {
    "colab": {
     "base_uri": "https://localhost:8080/",
     "height": 472
    },
    "id": "5HC2o76_KGyw",
    "outputId": "c5203504-8b33-4bf2-a029-ffc063f3010e",
    "scrolled": true
   },
   "outputs": [
    {
     "data": {
      "image/png": "[encoded data removed]",
      "text/plain": [
       "<Figure size 2000x1000 with 1 Axes>"
      ]
     },
     "metadata": {},
     "output_type": "display_data"
    }
   ],
   "source": [
    "# Create a bar graph\n",
    "x_list = [\"Lasso\", \"Linear Regression\",\"Ridge\" ,\"KNN\",\"Random Forest\",\"XGBoost\",\"SVR\"]\n",
    "y_list = [lasso_rms, lin_reg_rms, ridge_rms ,knn_rms, rf_rms, xgb_rms, svr_rms]\n",
    "\n",
    "plt.bar(x_list, y_list,  color = \"green\" )\n",
    "\n",
    "# Add title and labels\n",
    "plt.title('MSE Scores Comparison of Models')\n",
    "plt.xlabel('Models')\n",
    "plt.ylabel('MSE Scores')\n",
    "\n",
    "# Add y values on the bars\n",
    "for i, v in enumerate(y_list):\n",
    "    plt.text(i, v, str(round(v,3)), ha='center', va='bottom')\n",
    "\n",
    "# Show the plot\n",
    "plt.show()"
   ]
  },
  {
   "cell_type": "markdown",
   "metadata": {
    "id": "rPL0zId4PnuH"
   },
   "source": [
    "# Load "
   ]
  },
  {
   "cell_type": "code",
   "execution_count": 41,
   "metadata": {
    "id": "qO-Imc5hQuIT"
   },
   "outputs": [
    {
     "name": "stderr",
     "output_type": "stream",
     "text": [
      "2024/03/04 14:04:05 WARNING mlflow.pyfunc: Detected one or more mismatches between the model's dependencies and the current Python environment:\n",
      " - mlflow (current: 2.10.2, required: mlflow==2.9.2)\n",
      "To fix the mismatches, call `mlflow.pyfunc.get_model_dependencies(model_uri)` to fetch the model's environment and install dependencies using the resulting environment file.\n"
     ]
    }
   ],
   "source": [
    "# Load SVR\n",
    "logged_model = 'runs:/e4035bb26fd442ec9e42c0dd711781cf/sk_models'\n",
    "\n",
    "# Load model as a PyFuncModel.\n",
    "loaded_model = mlflow.pyfunc.load_model(logged_model)\n",
    "\n",
    "y_pred = loaded_model.predict(X_test)\n",
    "new_svr_rms = mean_squared_error(y_test, y_pred)    \n"
   ]
  },
  {
   "cell_type": "markdown",
   "metadata": {},
   "source": [
    "# Fetching an MLflow Model from the Model Registry\n"
   ]
  },
  {
   "cell_type": "code",
   "execution_count": 5,
   "metadata": {},
   "outputs": [],
   "source": [
    "all_runs = mlflow.search_runs(search_all_experiments=True)\n",
    "sorted_df = all_runs.sort_values(by=['metrics.test_rmse'], ascending=[True])"
   ]
  },
  {
   "cell_type": "code",
   "execution_count": 6,
   "metadata": {},
   "outputs": [
    {
     "data": {
      "text/html": [
       "<div>\n",
       "<style scoped>\n",
       "    .dataframe tbody tr th:only-of-type {\n",
       "        vertical-align: middle;\n",
       "    }\n",
       "\n",
       "    .dataframe tbody tr th {\n",
       "        vertical-align: top;\n",
       "    }\n",
       "\n",
       "    .dataframe thead th {\n",
       "        text-align: right;\n",
       "    }\n",
       "</style>\n",
       "<table border=\"1\" class=\"dataframe\">\n",
       "  <thead>\n",
       "    <tr style=\"text-align: right;\">\n",
       "      <th></th>\n",
       "      <th>tags.model_name</th>\n",
       "      <th>metrics.test_rmse</th>\n",
       "    </tr>\n",
       "  </thead>\n",
       "  <tbody>\n",
       "    <tr>\n",
       "      <th>12</th>\n",
       "      <td>SVR</td>\n",
       "      <td>0.030709</td>\n",
       "    </tr>\n",
       "    <tr>\n",
       "      <th>6</th>\n",
       "      <td>RF</td>\n",
       "      <td>0.034215</td>\n",
       "    </tr>\n",
       "    <tr>\n",
       "      <th>2</th>\n",
       "      <td>SVR</td>\n",
       "      <td>0.041429</td>\n",
       "    </tr>\n",
       "    <tr>\n",
       "      <th>15</th>\n",
       "      <td>RF</td>\n",
       "      <td>0.053043</td>\n",
       "    </tr>\n",
       "    <tr>\n",
       "      <th>5</th>\n",
       "      <td>XGB</td>\n",
       "      <td>0.053211</td>\n",
       "    </tr>\n",
       "    <tr>\n",
       "      <th>14</th>\n",
       "      <td>XGB</td>\n",
       "      <td>0.055348</td>\n",
       "    </tr>\n",
       "    <tr>\n",
       "      <th>7</th>\n",
       "      <td>RF</td>\n",
       "      <td>0.058737</td>\n",
       "    </tr>\n",
       "    <tr>\n",
       "      <th>10</th>\n",
       "      <td>Ridge</td>\n",
       "      <td>0.078906</td>\n",
       "    </tr>\n",
       "    <tr>\n",
       "      <th>13</th>\n",
       "      <td>LinReg</td>\n",
       "      <td>0.078923</td>\n",
       "    </tr>\n",
       "    <tr>\n",
       "      <th>0</th>\n",
       "      <td>Ridge</td>\n",
       "      <td>0.082623</td>\n",
       "    </tr>\n",
       "    <tr>\n",
       "      <th>3</th>\n",
       "      <td>LinReg</td>\n",
       "      <td>0.082645</td>\n",
       "    </tr>\n",
       "    <tr>\n",
       "      <th>1</th>\n",
       "      <td>Lasso</td>\n",
       "      <td>0.162985</td>\n",
       "    </tr>\n",
       "    <tr>\n",
       "      <th>11</th>\n",
       "      <td>Lasso</td>\n",
       "      <td>0.175288</td>\n",
       "    </tr>\n",
       "    <tr>\n",
       "      <th>4</th>\n",
       "      <td>KNN5</td>\n",
       "      <td>0.188309</td>\n",
       "    </tr>\n",
       "    <tr>\n",
       "      <th>8</th>\n",
       "      <td>KNN5</td>\n",
       "      <td>0.221969</td>\n",
       "    </tr>\n",
       "    <tr>\n",
       "      <th>9</th>\n",
       "      <td>KNN50</td>\n",
       "      <td>0.374306</td>\n",
       "    </tr>\n",
       "  </tbody>\n",
       "</table>\n",
       "</div>"
      ],
      "text/plain": [
       "   tags.model_name  metrics.test_rmse\n",
       "12             SVR           0.030709\n",
       "6               RF           0.034215\n",
       "2              SVR           0.041429\n",
       "15              RF           0.053043\n",
       "5              XGB           0.053211\n",
       "14             XGB           0.055348\n",
       "7               RF           0.058737\n",
       "10           Ridge           0.078906\n",
       "13          LinReg           0.078923\n",
       "0            Ridge           0.082623\n",
       "3           LinReg           0.082645\n",
       "1            Lasso           0.162985\n",
       "11           Lasso           0.175288\n",
       "4             KNN5           0.188309\n",
       "8             KNN5           0.221969\n",
       "9            KNN50           0.374306"
      ]
     },
     "execution_count": 6,
     "metadata": {},
     "output_type": "execute_result"
    }
   ],
   "source": [
    "sorted_df[[\"tags.model_name\",\"metrics.test_rmse\"]]"
   ]
  },
  {
   "cell_type": "code",
   "execution_count": 7,
   "metadata": {},
   "outputs": [
    {
     "data": {
      "text/plain": [
       "run_id                                            98db093dd35941f488f9bfe6d89383bb\n",
       "experiment_id                                                                    2\n",
       "status                                                                    FINISHED\n",
       "artifact_uri                     file:///C:/Users/izzet/OneDrive/Desktop/Dosyal...\n",
       "start_time                                        2024-03-04 10:54:19.355000+00:00\n",
       "end_time                                          2024-03-04 10:54:24.265000+00:00\n",
       "metrics.test_rmse                                                         0.082623\n",
       "params.alpha                                                                   0.2\n",
       "params.C                                                                      None\n",
       "params.degree                                                                 None\n",
       "params.gamma                                                                  None\n",
       "params.kernel                                                                 None\n",
       "params.epsilon                                                                None\n",
       "params.n_neighbors                                                            None\n",
       "params.eta                                                                    None\n",
       "params.subsample                                                              None\n",
       "params.max_depth                                                              None\n",
       "params.colsample_bytree                                                       None\n",
       "params.eval_metric                                                            None\n",
       "params.objective                                                              None\n",
       "params.n_estimators                                                           None\n",
       "tags.mlflow.user                                                             izzet\n",
       "tags.mlflow.source.type                                                      LOCAL\n",
       "tags.model_name                                                              Ridge\n",
       "tags.mlflow.log-model.history    [{\"run_id\": \"98db093dd35941f488f9bfe6d89383bb\"...\n",
       "tags.mlflow.source.name          C:\\Users\\izzet\\anaconda3\\Lib\\site-packages\\ipy...\n",
       "tags.mlflow.runName                                                    ridge_model\n",
       "tags.mlflow.note.content                                                      None\n",
       "Name: 0, dtype: object"
      ]
     },
     "execution_count": 7,
     "metadata": {},
     "output_type": "execute_result"
    }
   ],
   "source": [
    "sorted_df.loc[0]"
   ]
  },
  {
   "cell_type": "code",
   "execution_count": null,
   "metadata": {},
   "outputs": [],
   "source": []
  }
 ],
 "metadata": {
  "colab": {
   "provenance": []
  },
  "kernelspec": {
   "display_name": "Python 3 (ipykernel)",
   "language": "python",
   "name": "python3"
  },
  "language_info": {
   "codemirror_mode": {
    "name": "ipython",
    "version": 3
   },
   "file_extension": ".py",
   "mimetype": "text/x-python",
   "name": "python",
   "nbconvert_exporter": "python",
   "pygments_lexer": "ipython3",
   "version": "3.11.8"
  }
 },
 "nbformat": 4,
 "nbformat_minor": 4
}
